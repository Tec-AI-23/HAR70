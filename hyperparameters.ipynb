{
 "cells": [
  {
   "cell_type": "markdown",
   "metadata": {},
   "source": [
    "## Library"
   ]
  },
  {
   "cell_type": "code",
   "execution_count": 22,
   "metadata": {},
   "outputs": [],
   "source": [
    "import pandas as pd\n",
    "import numpy as np\n",
    "from sklearn.neural_network import MLPClassifier\n",
    "from sklearn.model_selection import HalvingRandomSearchCV\n",
    "from sklearn.ensemble import RandomForestClassifier, BaggingClassifier\n",
    "from sklearn.neighbors import KNeighborsClassifier\n",
    "from sklearn.tree import ExtraTreeClassifier"
   ]
  },
  {
   "cell_type": "markdown",
   "metadata": {},
   "source": [
    "## Load CSV"
   ]
  },
  {
   "cell_type": "code",
   "execution_count": 4,
   "metadata": {},
   "outputs": [
    {
     "data": {
      "text/html": [
       "<div>\n",
       "<style scoped>\n",
       "    .dataframe tbody tr th:only-of-type {\n",
       "        vertical-align: middle;\n",
       "    }\n",
       "\n",
       "    .dataframe tbody tr th {\n",
       "        vertical-align: top;\n",
       "    }\n",
       "\n",
       "    .dataframe thead th {\n",
       "        text-align: right;\n",
       "    }\n",
       "</style>\n",
       "<table border=\"1\" class=\"dataframe\">\n",
       "  <thead>\n",
       "    <tr style=\"text-align: right;\">\n",
       "      <th></th>\n",
       "      <th>timestamp</th>\n",
       "      <th>back_x</th>\n",
       "      <th>back_y</th>\n",
       "      <th>back_z</th>\n",
       "      <th>thigh_x</th>\n",
       "      <th>thigh_y</th>\n",
       "      <th>thigh_z</th>\n",
       "      <th>label</th>\n",
       "    </tr>\n",
       "  </thead>\n",
       "  <tbody>\n",
       "    <tr>\n",
       "      <th>0</th>\n",
       "      <td>2021-05-21 14:39:06.159</td>\n",
       "      <td>-0.887939</td>\n",
       "      <td>-0.148438</td>\n",
       "      <td>-0.628174</td>\n",
       "      <td>-0.994629</td>\n",
       "      <td>0.184570</td>\n",
       "      <td>-0.042480</td>\n",
       "      <td>1</td>\n",
       "    </tr>\n",
       "    <tr>\n",
       "      <th>1</th>\n",
       "      <td>2021-03-29 15:07:45.500</td>\n",
       "      <td>-1.577148</td>\n",
       "      <td>0.088867</td>\n",
       "      <td>-0.774902</td>\n",
       "      <td>0.114502</td>\n",
       "      <td>-0.053955</td>\n",
       "      <td>-0.212891</td>\n",
       "      <td>1</td>\n",
       "    </tr>\n",
       "    <tr>\n",
       "      <th>2</th>\n",
       "      <td>2021-03-29 15:06:30.260</td>\n",
       "      <td>-0.667969</td>\n",
       "      <td>-0.069336</td>\n",
       "      <td>-0.396484</td>\n",
       "      <td>-0.953613</td>\n",
       "      <td>-0.177490</td>\n",
       "      <td>-0.183594</td>\n",
       "      <td>1</td>\n",
       "    </tr>\n",
       "    <tr>\n",
       "      <th>3</th>\n",
       "      <td>2021-03-24 15:10:11.779</td>\n",
       "      <td>-1.383057</td>\n",
       "      <td>-0.228760</td>\n",
       "      <td>-0.405273</td>\n",
       "      <td>-1.863770</td>\n",
       "      <td>0.125488</td>\n",
       "      <td>0.687988</td>\n",
       "      <td>1</td>\n",
       "    </tr>\n",
       "    <tr>\n",
       "      <th>4</th>\n",
       "      <td>2021-04-16 14:53:05.704</td>\n",
       "      <td>-0.671387</td>\n",
       "      <td>0.096436</td>\n",
       "      <td>-0.241211</td>\n",
       "      <td>-0.869629</td>\n",
       "      <td>-0.064941</td>\n",
       "      <td>-0.102783</td>\n",
       "      <td>1</td>\n",
       "    </tr>\n",
       "    <tr>\n",
       "      <th>...</th>\n",
       "      <td>...</td>\n",
       "      <td>...</td>\n",
       "      <td>...</td>\n",
       "      <td>...</td>\n",
       "      <td>...</td>\n",
       "      <td>...</td>\n",
       "      <td>...</td>\n",
       "      <td>...</td>\n",
       "    </tr>\n",
       "    <tr>\n",
       "      <th>26077</th>\n",
       "      <td>2021-04-16 14:40:44.904</td>\n",
       "      <td>-0.385254</td>\n",
       "      <td>0.062256</td>\n",
       "      <td>0.922607</td>\n",
       "      <td>0.071777</td>\n",
       "      <td>0.054932</td>\n",
       "      <td>-1.078125</td>\n",
       "      <td>8</td>\n",
       "    </tr>\n",
       "    <tr>\n",
       "      <th>26078</th>\n",
       "      <td>2021-04-16 14:39:32.865</td>\n",
       "      <td>-0.400146</td>\n",
       "      <td>0.094482</td>\n",
       "      <td>0.904541</td>\n",
       "      <td>0.076416</td>\n",
       "      <td>0.099121</td>\n",
       "      <td>-1.073730</td>\n",
       "      <td>8</td>\n",
       "    </tr>\n",
       "    <tr>\n",
       "      <th>26079</th>\n",
       "      <td>2021-04-15 14:32:38.419</td>\n",
       "      <td>-0.467041</td>\n",
       "      <td>0.236084</td>\n",
       "      <td>0.861328</td>\n",
       "      <td>0.110840</td>\n",
       "      <td>-0.247803</td>\n",
       "      <td>-1.078125</td>\n",
       "      <td>8</td>\n",
       "    </tr>\n",
       "    <tr>\n",
       "      <th>26080</th>\n",
       "      <td>2021-05-21 14:28:52.139</td>\n",
       "      <td>-0.484375</td>\n",
       "      <td>0.078125</td>\n",
       "      <td>0.732178</td>\n",
       "      <td>0.148193</td>\n",
       "      <td>-0.069092</td>\n",
       "      <td>-0.976074</td>\n",
       "      <td>8</td>\n",
       "    </tr>\n",
       "    <tr>\n",
       "      <th>26081</th>\n",
       "      <td>2021-05-21 14:28:09.619</td>\n",
       "      <td>-0.482910</td>\n",
       "      <td>0.125000</td>\n",
       "      <td>0.734375</td>\n",
       "      <td>0.243896</td>\n",
       "      <td>-0.091309</td>\n",
       "      <td>-0.959717</td>\n",
       "      <td>8</td>\n",
       "    </tr>\n",
       "  </tbody>\n",
       "</table>\n",
       "<p>26082 rows × 8 columns</p>\n",
       "</div>"
      ],
      "text/plain": [
       "                     timestamp    back_x    back_y    back_z   thigh_x  \\\n",
       "0      2021-05-21 14:39:06.159 -0.887939 -0.148438 -0.628174 -0.994629   \n",
       "1      2021-03-29 15:07:45.500 -1.577148  0.088867 -0.774902  0.114502   \n",
       "2      2021-03-29 15:06:30.260 -0.667969 -0.069336 -0.396484 -0.953613   \n",
       "3      2021-03-24 15:10:11.779 -1.383057 -0.228760 -0.405273 -1.863770   \n",
       "4      2021-04-16 14:53:05.704 -0.671387  0.096436 -0.241211 -0.869629   \n",
       "...                        ...       ...       ...       ...       ...   \n",
       "26077  2021-04-16 14:40:44.904 -0.385254  0.062256  0.922607  0.071777   \n",
       "26078  2021-04-16 14:39:32.865 -0.400146  0.094482  0.904541  0.076416   \n",
       "26079  2021-04-15 14:32:38.419 -0.467041  0.236084  0.861328  0.110840   \n",
       "26080  2021-05-21 14:28:52.139 -0.484375  0.078125  0.732178  0.148193   \n",
       "26081  2021-05-21 14:28:09.619 -0.482910  0.125000  0.734375  0.243896   \n",
       "\n",
       "        thigh_y   thigh_z  label  \n",
       "0      0.184570 -0.042480      1  \n",
       "1     -0.053955 -0.212891      1  \n",
       "2     -0.177490 -0.183594      1  \n",
       "3      0.125488  0.687988      1  \n",
       "4     -0.064941 -0.102783      1  \n",
       "...         ...       ...    ...  \n",
       "26077  0.054932 -1.078125      8  \n",
       "26078  0.099121 -1.073730      8  \n",
       "26079 -0.247803 -1.078125      8  \n",
       "26080 -0.069092 -0.976074      8  \n",
       "26081 -0.091309 -0.959717      8  \n",
       "\n",
       "[26082 rows x 8 columns]"
      ]
     },
     "execution_count": 4,
     "metadata": {},
     "output_type": "execute_result"
    }
   ],
   "source": [
    "df = pd.read_csv('./datasets/balanced_har70.csv')\n",
    "df"
   ]
  },
  {
   "cell_type": "markdown",
   "metadata": {},
   "source": [
    "## Dataset Partition"
   ]
  },
  {
   "cell_type": "code",
   "execution_count": 9,
   "metadata": {},
   "outputs": [],
   "source": [
    "datasets = (df.iloc[:,1:-1].values, df.iloc[:,-1].values)\n",
    "X, y = datasets"
   ]
  },
  {
   "cell_type": "markdown",
   "metadata": {},
   "source": [
    "## Hyperparameter's selection with Cross validation"
   ]
  },
  {
   "cell_type": "markdown",
   "metadata": {},
   "source": [
    "### RandomForestClassifier"
   ]
  },
  {
   "cell_type": "code",
   "execution_count": 14,
   "metadata": {},
   "outputs": [
    {
     "name": "stderr",
     "output_type": "stream",
     "text": [
      "c:\\Python311\\Lib\\site-packages\\sklearn\\model_selection\\_search.py:307: UserWarning: The total space of parameters 24 is smaller than n_iter=186. Running 24 iterations. For exhaustive searches, use GridSearchCV.\n",
      "  warnings.warn(\n"
     ]
    },
    {
     "name": "stdout",
     "output_type": "stream",
     "text": [
      "RandomForestClassifier(max_depth=18)\n"
     ]
    }
   ],
   "source": [
    "level_depth = np.arange(1, 25, 1)\n",
    "\n",
    "clf = HalvingRandomSearchCV(RandomForestClassifier(), {'max_depth': level_depth},\n",
    "cv=10, random_state=42)\n",
    "\n",
    "clf.fit(X, y)\n",
    "print(clf.best_estimator_)"
   ]
  },
  {
   "cell_type": "markdown",
   "metadata": {},
   "source": [
    "### Kneighbors"
   ]
  },
  {
   "cell_type": "code",
   "execution_count": 17,
   "metadata": {},
   "outputs": [
    {
     "name": "stderr",
     "output_type": "stream",
     "text": [
      "c:\\Python311\\Lib\\site-packages\\sklearn\\model_selection\\_search.py:307: UserWarning: The total space of parameters 19 is smaller than n_iter=186. Running 19 iterations. For exhaustive searches, use GridSearchCV.\n",
      "  warnings.warn(\n"
     ]
    },
    {
     "name": "stdout",
     "output_type": "stream",
     "text": [
      "KNeighborsClassifier(n_neighbors=4)\n"
     ]
    }
   ],
   "source": [
    "neighbors = np.arange(1, 20, 1)\n",
    "\n",
    "clf = HalvingRandomSearchCV(KNeighborsClassifier(), {'n_neighbors': neighbors}, \n",
    "cv=10, random_state=0)\n",
    "clf.fit(X, y)\n",
    "print(clf.best_estimator_)"
   ]
  },
  {
   "cell_type": "markdown",
   "metadata": {},
   "source": [
    "### ExtraTreeClassifier"
   ]
  },
  {
   "cell_type": "code",
   "execution_count": 20,
   "metadata": {},
   "outputs": [
    {
     "name": "stderr",
     "output_type": "stream",
     "text": [
      "c:\\Python311\\Lib\\site-packages\\sklearn\\model_selection\\_search.py:307: UserWarning: The total space of parameters 49 is smaller than n_iter=186. Running 49 iterations. For exhaustive searches, use GridSearchCV.\n",
      "  warnings.warn(\n"
     ]
    },
    {
     "name": "stdout",
     "output_type": "stream",
     "text": [
      "ExtraTreeClassifier(max_depth=34, random_state=0)\n"
     ]
    }
   ],
   "source": [
    "level_depth = np.arange(1, 50, 1)\n",
    "\n",
    "clf = HalvingRandomSearchCV(ExtraTreeClassifier(random_state=0), {'max_depth': level_depth},\n",
    "cv=10, random_state=42)\n",
    "clf.fit(X, y)\n",
    "print(clf.best_estimator_)"
   ]
  },
  {
   "cell_type": "markdown",
   "metadata": {},
   "source": [
    "###  BaggingClassifier"
   ]
  },
  {
   "cell_type": "code",
   "execution_count": 25,
   "metadata": {},
   "outputs": [
    {
     "name": "stderr",
     "output_type": "stream",
     "text": [
      "c:\\Python311\\Lib\\site-packages\\sklearn\\model_selection\\_search.py:307: UserWarning: The total space of parameters 19 is smaller than n_iter=186. Running 19 iterations. For exhaustive searches, use GridSearchCV.\n",
      "  warnings.warn(\n"
     ]
    },
    {
     "name": "stdout",
     "output_type": "stream",
     "text": [
      "BaggingClassifier(n_estimators=16)\n"
     ]
    }
   ],
   "source": [
    "n_estimators = np.arange(1, 20, 1)\n",
    "\n",
    "clf = HalvingRandomSearchCV(BaggingClassifier(), {'n_estimators': n_estimators},\n",
    "cv=10, random_state=0)\n",
    "clf.fit(X, y)\n",
    "print(clf.best_estimator_)\n"
   ]
  },
  {
   "cell_type": "markdown",
   "metadata": {},
   "source": [
    "### MLPClassifier"
   ]
  },
  {
   "cell_type": "code",
   "execution_count": 12,
   "metadata": {},
   "outputs": [
    {
     "name": "stderr",
     "output_type": "stream",
     "text": [
      "c:\\Python311\\Lib\\site-packages\\sklearn\\model_selection\\_search.py:307: UserWarning: The total space of parameters 25 is smaller than n_iter=372. Running 25 iterations. For exhaustive searches, use GridSearchCV.\n",
      "  warnings.warn(\n"
     ]
    },
    {
     "name": "stdout",
     "output_type": "stream",
     "text": [
      "MLPClassifier(hidden_layer_sizes=[35], max_iter=10000)\n"
     ]
    }
   ],
   "source": [
    "num_layers = np.arange(1, 10, 2)\n",
    "num_neurons = np.arange(5, 50, 10)\n",
    "num_neurons\n",
    "\n",
    "layers = []\n",
    "for l in num_layers:\n",
    "    for n in num_neurons:\n",
    "        layers.append(l*[n])\n",
    "    \n",
    "clf = HalvingRandomSearchCV(MLPClassifier(max_iter=10000), {'hidden_layer_sizes': layers},\n",
    "cv = 10, random_state = 0)\n",
    "clf.fit(X, y)\n",
    "print(clf.best_estimator_)"
   ]
  }
 ],
 "metadata": {
  "kernelspec": {
   "display_name": "Python 3",
   "language": "python",
   "name": "python3"
  },
  "language_info": {
   "codemirror_mode": {
    "name": "ipython",
    "version": 3
   },
   "file_extension": ".py",
   "mimetype": "text/x-python",
   "name": "python",
   "nbconvert_exporter": "python",
   "pygments_lexer": "ipython3",
   "version": "3.11.4"
  },
  "orig_nbformat": 4
 },
 "nbformat": 4,
 "nbformat_minor": 2
}
